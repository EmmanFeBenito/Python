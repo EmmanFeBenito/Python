{
 "cells": [
  {
   "cell_type": "code",
   "execution_count": 8,
   "id": "0e83a50b-6b70-420f-b25f-c16506906895",
   "metadata": {},
   "outputs": [],
   "source": [
    "# Exercises 1-2"
   ]
  },
  {
   "cell_type": "code",
   "execution_count": null,
   "id": "bccc8d63-5290-4370-adaf-d715b43c0d2c",
   "metadata": {},
   "outputs": [],
   "source": [
    "#####1. How many seconds are there in 42 minutes 42 seconds?"
   ]
  },
  {
   "cell_type": "code",
   "execution_count": 1,
   "id": "e461e86c-ff04-490d-8865-6deb23eb3dd8",
   "metadata": {},
   "outputs": [
    {
     "name": "stdout",
     "output_type": "stream",
     "text": [
      "There are 2562 seconds in 42 minutes and 42 seconds\n"
     ]
    }
   ],
   "source": [
    "minutes = 42\n",
    "initial_seconds = 42\n",
    "minutes_per_second = 60\n",
    "seconds = minutes * minutes_per_second\n",
    "total_seconds = seconds + initial_seconds\n",
    "print('There are %d seconds in %d minutes and %d seconds' %(total_seconds,minutes,initial_seconds))"
   ]
  },
  {
   "cell_type": "code",
   "execution_count": 4,
   "id": "ac2f0ac6-b7bc-4a28-9063-c27795a65bda",
   "metadata": {},
   "outputs": [
    {
     "name": "stdin",
     "output_type": "stream",
     "text": [
      "Enter the minutes:  42\n",
      "Enter the seconds:  42\n"
     ]
    },
    {
     "name": "stdout",
     "output_type": "stream",
     "text": [
      "There are 2562 seconds in 42 minutes and 42 seconds\n"
     ]
    }
   ],
   "source": [
    "# Taking minutes and seconds input from the user\n",
    "minutes = float(input(\"Enter the minutes: \"))\n",
    "intial_seconds = float(input(\"Enter the seconds: \"))\n",
    "\n",
    "# conversion factor\n",
    "minutes_per_second = 60\n",
    "\n",
    "# calculate for seconds\n",
    "seconds = minutes * minutes_per_second\n",
    "total_seconds = seconds + initial_seconds\n",
    "print('There are %d seconds in %d minutes and %d seconds' %(total_seconds,minutes,initial_seconds))"
   ]
  },
  {
   "cell_type": "code",
   "execution_count": null,
   "id": "1a41e758-059b-467a-a556-02b6558c23e4",
   "metadata": {},
   "outputs": [],
   "source": [
    "#####2. How many miles are there in 10 kilometers? Hint: there are 1.61 kilometers in a mile."
   ]
  },
  {
   "cell_type": "code",
   "execution_count": 6,
   "id": "85404e9c-5b3c-4bfd-97b6-aaa13d195747",
   "metadata": {},
   "outputs": [
    {
     "name": "stdout",
     "output_type": "stream",
     "text": [
      "There are 6.21 miles in 10.00 kilometers\n"
     ]
    }
   ],
   "source": [
    "kilometers = 10\n",
    "\n",
    "mile_per_km = 0.621371\n",
    "\n",
    "miles = kilometers * mile_per_km\n",
    "\n",
    "print('There are %0.2f miles in %0.2f kilometers' %(miles,kilometers))"
   ]
  },
  {
   "cell_type": "code",
   "execution_count": 7,
   "id": "8123bf53-28f1-4aaa-92b0-a7e5d9b66a3b",
   "metadata": {},
   "outputs": [
    {
     "name": "stdin",
     "output_type": "stream",
     "text": [
      "Enter the distance value in kilometers:  10\n"
     ]
    },
    {
     "name": "stdout",
     "output_type": "stream",
     "text": [
      "There are 6.21 miles in 10.00 kilometers\n"
     ]
    }
   ],
   "source": [
    "# Taking kilometers input from the user\n",
    "kilometers = float(input(\"Enter the distance value in kilometers: \"))\n",
    "\n",
    "# conversion factor\n",
    "mile_per_km = 0.621371\n",
    "\n",
    "# calculate miles\n",
    "miles = kilometers * mile_per_km\n",
    "print('There are %0.2f miles in %0.2f kilometers' %(miles,kilometers))"
   ]
  },
  {
   "cell_type": "code",
   "execution_count": null,
   "id": "baadc962-5862-4817-8f49-0b6b7e4e3426",
   "metadata": {},
   "outputs": [],
   "source": [
    "#####3. If you run a 10 kilometer race in 42 minutes 42 seconds, what is your average pace (time per mile in minutes and seconds)? What is your average speed in miles per hour?"
   ]
  },
  {
   "cell_type": "code",
   "execution_count": 11,
   "id": "41969d11-4769-4b83-b1e2-bd76f900d2f2",
   "metadata": {},
   "outputs": [
    {
     "name": "stdout",
     "output_type": "stream",
     "text": [
      "Pace in minutes per mile: 6.874700000000002\n",
      "Average speed in mph: 8.727653570337614\n"
     ]
    }
   ],
   "source": [
    "from __future__ import print_function, division\n",
    "\n",
    "mins = 42\n",
    "sec = 42\n",
    "new_mins = sec / 60\n",
    "total_mins = new_mins + mins\n",
    "hours = total_mins / 60\n",
    "\n",
    "km_per_mile = 1.61\n",
    "distance_in_km = 10 \n",
    "miles = distance_in_km / km_per_mile \n",
    "\n",
    "pace = total_mins / miles\n",
    "mph = miles / hours\n",
    "\n",
    "print('Pace in minutes per mile:', pace)\n",
    "print('Average speed in mph:', mph)"
   ]
  }
 ],
 "metadata": {
  "kernelspec": {
   "display_name": "Python 3 (ipykernel)",
   "language": "python",
   "name": "python3"
  },
  "language_info": {
   "codemirror_mode": {
    "name": "ipython",
    "version": 3
   },
   "file_extension": ".py",
   "mimetype": "text/x-python",
   "name": "python",
   "nbconvert_exporter": "python",
   "pygments_lexer": "ipython3",
   "version": "3.12.1"
  }
 },
 "nbformat": 4,
 "nbformat_minor": 5
}
